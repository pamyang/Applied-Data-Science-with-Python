{
 "cells": [
  {
   "cell_type": "markdown",
   "metadata": {},
   "source": [
    "---\n",
    "\n",
    "_You are currently looking at **version 1.1** of this notebook. To download notebooks and datafiles, as well as get help on Jupyter notebooks in the Coursera platform, visit the [Jupyter Notebook FAQ](https://www.coursera.org/learn/python-data-analysis/resources/0dhYG) course resource._\n",
    "\n",
    "---"
   ]
  },
  {
   "cell_type": "code",
   "execution_count": 29,
   "metadata": {
    "collapsed": true
   },
   "outputs": [],
   "source": [
    "import pandas as pd\n",
    "import numpy as np\n",
    "from scipy.stats import ttest_ind"
   ]
  },
  {
   "cell_type": "markdown",
   "metadata": {},
   "source": [
    "# Assignment 4 - Hypothesis Testing\n",
    "This assignment requires more individual learning than previous assignments - you are encouraged to check out the [pandas documentation](http://pandas.pydata.org/pandas-docs/stable/) to find functions or methods you might not have used yet, or ask questions on [Stack Overflow](http://stackoverflow.com/) and tag them as pandas and python related. And of course, the discussion forums are open for interaction with your peers and the course staff.\n",
    "\n",
    "Definitions:\n",
    "* A _quarter_ is a specific three month period, Q1 is January through March, Q2 is April through June, Q3 is July through September, Q4 is October through December.\n",
    "* A _recession_ is defined as starting with two consecutive quarters of GDP decline, and ending with two consecutive quarters of GDP growth.\n",
    "* A _recession bottom_ is the quarter within a recession which had the lowest GDP.\n",
    "* A _university town_ is a city which has a high percentage of university students compared to the total population of the city.\n",
    "\n",
    "**Hypothesis**: University towns have their mean housing prices less effected by recessions. Run a t-test to compare the ratio of the mean price of houses in university towns the quarter before the recession starts compared to the recession bottom. (`price_ratio=quarter_before_recession/recession_bottom`)\n",
    "\n",
    "The following data files are available for this assignment:\n",
    "* From the [Zillow research data site](http://www.zillow.com/research/data/) there is housing data for the United States. In particular the datafile for [all homes at a city level](http://files.zillowstatic.com/research/public/City/City_Zhvi_AllHomes.csv), ```City_Zhvi_AllHomes.csv```, has median home sale prices at a fine grained level.\n",
    "* From the Wikipedia page on college towns is a list of [university towns in the United States](https://en.wikipedia.org/wiki/List_of_college_towns#College_towns_in_the_United_States) which has been copy and pasted into the file ```university_towns.txt```.\n",
    "* From Bureau of Economic Analysis, US Department of Commerce, the [GDP over time](http://www.bea.gov/national/index.htm#gdp) of the United States in current dollars (use the chained value in 2009 dollars), in quarterly intervals, in the file ```gdplev.xls```. For this assignment, only look at GDP data from the first quarter of 2000 onward.\n",
    "\n",
    "Each function in this assignment below is worth 10%, with the exception of ```run_ttest()```, which is worth 50%."
   ]
  },
  {
   "cell_type": "code",
   "execution_count": 30,
   "metadata": {
    "collapsed": true
   },
   "outputs": [],
   "source": [
    "# Use this dictionary to map state names to two letter acronyms\n",
    "states = {'OH': 'Ohio', 'KY': 'Kentucky', 'AS': 'American Samoa', 'NV': 'Nevada', 'WY': 'Wyoming', 'NA': 'National', 'AL': 'Alabama', 'MD': 'Maryland', 'AK': 'Alaska', 'UT': 'Utah', 'OR': 'Oregon', 'MT': 'Montana', 'IL': 'Illinois', 'TN': 'Tennessee', 'DC': 'District of Columbia', 'VT': 'Vermont', 'ID': 'Idaho', 'AR': 'Arkansas', 'ME': 'Maine', 'WA': 'Washington', 'HI': 'Hawaii', 'WI': 'Wisconsin', 'MI': 'Michigan', 'IN': 'Indiana', 'NJ': 'New Jersey', 'AZ': 'Arizona', 'GU': 'Guam', 'MS': 'Mississippi', 'PR': 'Puerto Rico', 'NC': 'North Carolina', 'TX': 'Texas', 'SD': 'South Dakota', 'MP': 'Northern Mariana Islands', 'IA': 'Iowa', 'MO': 'Missouri', 'CT': 'Connecticut', 'WV': 'West Virginia', 'SC': 'South Carolina', 'LA': 'Louisiana', 'KS': 'Kansas', 'NY': 'New York', 'NE': 'Nebraska', 'OK': 'Oklahoma', 'FL': 'Florida', 'CA': 'California', 'CO': 'Colorado', 'PA': 'Pennsylvania', 'DE': 'Delaware', 'NM': 'New Mexico', 'RI': 'Rhode Island', 'MN': 'Minnesota', 'VI': 'Virgin Islands', 'NH': 'New Hampshire', 'MA': 'Massachusetts', 'GA': 'Georgia', 'ND': 'North Dakota', 'VA': 'Virginia'}"
   ]
  },
  {
   "cell_type": "code",
   "execution_count": 31,
   "metadata": {
    "collapsed": true,
    "umich_part_id": "021",
    "umich_partlist_id": "004"
   },
   "outputs": [],
   "source": [
    "'''Returns a DataFrame of towns and the states they are in from the \n",
    "university_towns.txt list. The format of the DataFrame should be:\n",
    "DataFrame( [ [\"Michigan\", \"Ann Arbor\"], [\"Michigan\", \"Yipsilanti\"] ], \n",
    "columns=[\"State\", \"RegionName\"]  )\n",
    "    \n",
    "The following cleaning needs to be done:\n",
    "\n",
    "1. For \"State\", removing characters from \"[\" to the end.\n",
    "2. For \"RegionName\", when applicable, removing every character from \" (\" to the end.\n",
    "3. Depending on how you read the data, you may need to remove newline character '\\n'. '''\n",
    "\n",
    "def get_list_of_university_towns():\n",
    "\n",
    "    #reading data\n",
    "    f = (open(\"university_towns.txt\")).read()\n",
    "    f = f.split('\\n')[0:-1]\n",
    "    \n",
    "    #set up 2d list\n",
    "    towns_list = []\n",
    "    state = ''\n",
    "    \n",
    "    #iterate thru txt, adding towns in desired, cleaned format\n",
    "    for i in f:\n",
    "        if i[-6:] == '[edit]':\n",
    "            state = i[:-6]\n",
    "        else:\n",
    "            towns_list.append([state, i.split(' (')[0]])\n",
    "    \n",
    "    #returning info in a df as desired\n",
    "    return pd.DataFrame(towns_list, columns = ['State', 'RegionName'])"
   ]
  },
  {
   "cell_type": "code",
   "execution_count": 32,
   "metadata": {
    "collapsed": true,
    "umich_part_id": "022",
    "umich_partlist_id": "004"
   },
   "outputs": [],
   "source": [
    "'''Returns the year and quarter of the recession start time as a \n",
    "string value in a format such as 2005q3'''\n",
    "\n",
    "def get_recession_start():\n",
    "    \n",
    "    #reading and clearing data we're not addressing\n",
    "    df = pd.read_excel('gdplev.xls', skiprows = 7,\n",
    "                       usecols = ['Unnamed: 4', 'Unnamed: 6'])\n",
    "    df.columns = ['Quarter', 'GDP in Billions (2009 Dollars)']\n",
    "    \n",
    "    #looking for the starting quarter, 2000q1\n",
    "    first = df[df['Quarter']=='2000q1'].index.values\n",
    "    df = df.iloc[int(first):]\n",
    "    \n",
    "    df = df.reset_index()\n",
    "    del df['index']\n",
    "    \n",
    "    #looking for declining quarters\n",
    "    df['Net Change'] = df['GDP in Billions (2009 Dollars)'].diff()\n",
    "    df['Decline'] = (df['Net Change'] < 0)\n",
    "    \n",
    "    #only leaving declining quarters followed by another decline\n",
    "    df['Start'] = (df['Decline'] & df['Decline'].shift(-1))\n",
    "    df = df[df['Start']]\n",
    "    \n",
    "    #return the first instance\n",
    "    return df.reset_index().loc[0, 'Quarter']"
   ]
  },
  {
   "cell_type": "code",
   "execution_count": 33,
   "metadata": {
    "collapsed": true,
    "umich_part_id": "023",
    "umich_partlist_id": "004"
   },
   "outputs": [],
   "source": [
    "'''Returns the year and quarter of the recession end time as a \n",
    "    string value in a format such as 2005q3'''\n",
    "\n",
    "def get_recession_end():\n",
    "    \n",
    "    #reading and clearing data we're not addressing\n",
    "    df = pd.read_excel('gdplev.xls', skiprows = 7,\n",
    "                       usecols = ['Unnamed: 4', 'Unnamed: 6'])\n",
    "    df.columns = ['Quarter', 'GDP in Billions (2009 Dollars)']\n",
    "    \n",
    "    #looking for the recession start quarter\n",
    "    first = df[df['Quarter']==get_recession_start()].index.values\n",
    "    df = df.iloc[int(first):]\n",
    "       \n",
    "    df = df.reset_index()\n",
    "    del df['index']\n",
    "    \n",
    "    #looking for growing quarters\n",
    "    df['Net Change'] = df['GDP in Billions (2009 Dollars)'].diff()\n",
    "    df['Growth'] = (df['Net Change'] > 0)\n",
    "    \n",
    "    #only leaving growth quarters preceded by another growth\n",
    "    df['End'] = (df['Growth'] & df['Growth'].shift(1))\n",
    "    df = df[df['End']]\n",
    "    \n",
    "    #return the first instance\n",
    "    return df.reset_index().loc[0, 'Quarter']\n"
   ]
  },
  {
   "cell_type": "code",
   "execution_count": 34,
   "metadata": {
    "collapsed": true,
    "umich_part_id": "024",
    "umich_partlist_id": "004"
   },
   "outputs": [],
   "source": [
    "'''Returns the year and quarter of the recession bottom time as a \n",
    "string value in a format such as 2005q3'''\n",
    "\n",
    "def get_recession_bottom():\n",
    "    \n",
    "    #reading and clearing data we're not addressing\n",
    "    df = pd.read_excel('gdplev.xls', skiprows = 7,\n",
    "                       usecols = ['Unnamed: 4', 'Unnamed: 6'])\n",
    "    df.columns = ['Quarter', 'GDP in Billions (2009 Dollars)']\n",
    "    \n",
    "    #looking for the recession\n",
    "    first = df[df['Quarter']==get_recession_start()].index.values\n",
    "    last = df[df['Quarter']==get_recession_end()].index.values\n",
    "    df = df.iloc[int(first):int(last)]\n",
    "    \n",
    "    df = df.reset_index()\n",
    "    del df['index']\n",
    "    \n",
    "    #looking for lowest gdp and where it is\n",
    "    min_GDP = df['GDP in Billions (2009 Dollars)'].min()\n",
    "    bottom_index = df[df['GDP in Billions (2009 Dollars)']==min_GDP].index.values\n",
    "    \n",
    "    #returning the quarter\n",
    "    return df.loc[int(bottom_index), 'Quarter']"
   ]
  },
  {
   "cell_type": "code",
   "execution_count": 35,
   "metadata": {
    "collapsed": true,
    "scrolled": true,
    "umich_part_id": "025",
    "umich_partlist_id": "004"
   },
   "outputs": [],
   "source": [
    "'''Converts the housing data to quarters and returns it as mean \n",
    "values in a dataframe. This dataframe should be a dataframe with\n",
    "columns for 2000q1 through 2016q3, and should have a multi-index\n",
    "in the shape of [\"State\",\"RegionName\"].\n",
    "    \n",
    "Note: Quarters are defined in the assignment description, they are\n",
    "not arbitrary three month periods.\n",
    "    \n",
    "The resulting dataframe should have 67 columns, and 10,730 rows.\n",
    "'''\n",
    "\n",
    "\n",
    "def convert_housing_data_to_quarters():\n",
    "    \n",
    "    states = {'OH': 'Ohio', 'KY': 'Kentucky', 'AS': 'American Samoa', 'NV': 'Nevada', 'WY': 'Wyoming', 'NA': 'National', 'AL': 'Alabama', 'MD': 'Maryland', 'AK': 'Alaska', 'UT': 'Utah', 'OR': 'Oregon', 'MT': 'Montana', 'IL': 'Illinois', 'TN': 'Tennessee', 'DC': 'District of Columbia', 'VT': 'Vermont', 'ID': 'Idaho', 'AR': 'Arkansas', 'ME': 'Maine', 'WA': 'Washington', 'HI': 'Hawaii', 'WI': 'Wisconsin', 'MI': 'Michigan', 'IN': 'Indiana', 'NJ': 'New Jersey', 'AZ': 'Arizona', 'GU': 'Guam', 'MS': 'Mississippi', 'PR': 'Puerto Rico', 'NC': 'North Carolina', 'TX': 'Texas', 'SD': 'South Dakota', 'MP': 'Northern Mariana Islands', 'IA': 'Iowa', 'MO': 'Missouri', 'CT': 'Connecticut', 'WV': 'West Virginia', 'SC': 'South Carolina', 'LA': 'Louisiana', 'KS': 'Kansas', 'NY': 'New York', 'NE': 'Nebraska', 'OK': 'Oklahoma', 'FL': 'Florida', 'CA': 'California', 'CO': 'Colorado', 'PA': 'Pennsylvania', 'DE': 'Delaware', 'NM': 'New Mexico', 'RI': 'Rhode Island', 'MN': 'Minnesota', 'VI': 'Virgin Islands', 'NH': 'New Hampshire', 'MA': 'Massachusetts', 'GA': 'Georgia', 'ND': 'North Dakota', 'VA': 'Virginia'}\n",
    "    \n",
    "    df = pd.read_csv('City_Zhvi_AllHomes.csv')\n",
    "    df['State'].replace(states, inplace = True)\n",
    "    \n",
    "    df.set_index([\"State\",\"RegionName\"], inplace = True)\n",
    "    df.sort_index(inplace = True)\n",
    "    \n",
    "    for column in df.columns:\n",
    "        if column[0:2] != '20':\n",
    "            del df[column]\n",
    "    \n",
    "    year = '2000'\n",
    "    quarter = 'q1'\n",
    "    q_count = 1\n",
    "    y_count = 1\n",
    "    \n",
    "    for column in df.columns:\n",
    "        \n",
    "        if (year + quarter) not in df.columns:\n",
    "            df[year + quarter] = 0\n",
    "        df[year + quarter] += df[column]\n",
    "        \n",
    "        if (q_count %3) == 0:\n",
    "            df[year + quarter] = df[year + quarter]/3\n",
    "            quarter = 'q' + str((int(quarter[1:])%4)+1)\n",
    "            \n",
    "        if (y_count % 12) == 0:\n",
    "            year = str(int(year)+1)\n",
    "\n",
    "        y_count += 1   \n",
    "        q_count += 1\n",
    "        \n",
    "        del df[column]\n",
    "        \n",
    "    df[year + quarter] /= 2\n",
    "    \n",
    "    return df\n"
   ]
  },
  {
   "cell_type": "code",
   "execution_count": 41,
   "metadata": {
    "umich_part_id": "026",
    "umich_partlist_id": "004"
   },
   "outputs": [
    {
     "data": {
      "text/plain": [
       "Ttest_indResult(statistic=2.8324726966688369, pvalue=0.0046283242533887627)"
      ]
     },
     "execution_count": 41,
     "metadata": {},
     "output_type": "execute_result"
    }
   ],
   "source": [
    "'''First creates new data showing the decline or growth of housing prices\n",
    "between the recession start and the recession bottom. Then runs a ttest\n",
    "comparing the university town values to the non-university towns values, \n",
    "return whether the alternative hypothesis (that the two groups are the same)\n",
    "is true or not as well as the p-value of the confidence. \n",
    "    \n",
    "Return the tuple (different, p, better) where different=True if the t-test is\n",
    "True at a p<0.01 (we reject the null hypothesis), or different=False if \n",
    "otherwise (we cannot reject the null hypothesis). The variable p should\n",
    "be equal to the exact p value returned from scipy.stats.ttest_ind(). The\n",
    "value for better should be either \"university town\" or \"non-university town\"\n",
    "depending on which has a lower mean price ratio (which is equivilent to a\n",
    "reduced market loss).'''\n",
    "\n",
    "def run_ttest():\n",
    "    \n",
    "    #getting all the data in the form we want\n",
    "    df = convert_housing_data_to_quarters()\n",
    "    start = get_recession_start()\n",
    "    bottom = get_recession_bottom()\n",
    "    end = get_recession_end()\n",
    "    \n",
    "    cols_to_keep = [start, bottom]\n",
    "    df = df[cols_to_keep]\n",
    "    \n",
    "    #calculating decline and ratio for towns\n",
    "    df['delta'] = df[bottom] - df[start]\n",
    "    df['Price Ratio'] = df[start]/df[bottom]\n",
    "    \n",
    "    #distinguishing uni towns from non-uni towns on housing df\n",
    "    university_towns = get_list_of_university_towns()\n",
    "    university_towns['University Towns'] = True\n",
    "    university_towns.set_index(['State', 'RegionName'], inplace = True)\n",
    "    \n",
    "    df = pd.merge(df, university_towns, how = 'left', left_index = True, right_index = True)\n",
    "    df['University Towns'].fillna(False, inplace = True)\n",
    "    \n",
    "    #grouping housing df by uni/non-uni, and getting rid of missing info \n",
    "    df = df[(np.isnan(df['delta'])==False)]\n",
    "    uni_towns = df[df['University Towns']]\n",
    "    n_uni_towns = df[df['University Towns']==False]\n",
    "    \n",
    "    #actually doing the test\n",
    "    test_result = ttest_ind(uni_towns['delta'], n_uni_towns['delta'])\n",
    "    \n",
    "    #formatting result\n",
    "    different = (test_result.pvalue < 0.01)\n",
    "    better = 'non-university town'\n",
    "    \n",
    "    if uni_towns['Price Ratio'].mean() < n_uni_towns['Price Ratio'].mean():\n",
    "        better = 'university town'\n",
    "    \n",
    "    return (different, test_result.pvalue, better)"
   ]
  },
  {
   "cell_type": "code",
   "execution_count": null,
   "metadata": {
    "collapsed": true
   },
   "outputs": [],
   "source": []
  },
  {
   "cell_type": "code",
   "execution_count": null,
   "metadata": {
    "collapsed": true
   },
   "outputs": [],
   "source": []
  },
  {
   "cell_type": "code",
   "execution_count": null,
   "metadata": {
    "collapsed": true
   },
   "outputs": [],
   "source": []
  },
  {
   "cell_type": "code",
   "execution_count": null,
   "metadata": {
    "collapsed": true
   },
   "outputs": [],
   "source": []
  },
  {
   "cell_type": "code",
   "execution_count": null,
   "metadata": {
    "collapsed": true
   },
   "outputs": [],
   "source": []
  },
  {
   "cell_type": "code",
   "execution_count": null,
   "metadata": {
    "collapsed": true
   },
   "outputs": [],
   "source": []
  },
  {
   "cell_type": "code",
   "execution_count": null,
   "metadata": {
    "collapsed": true
   },
   "outputs": [],
   "source": []
  },
  {
   "cell_type": "code",
   "execution_count": null,
   "metadata": {
    "collapsed": true
   },
   "outputs": [],
   "source": []
  },
  {
   "cell_type": "code",
   "execution_count": null,
   "metadata": {
    "collapsed": true
   },
   "outputs": [],
   "source": []
  }
 ],
 "metadata": {
  "coursera": {
   "course_slug": "python-data-analysis",
   "graded_item_id": "Il9Fx",
   "launcher_item_id": "TeDW0",
   "part_id": "WGlun"
  },
  "kernelspec": {
   "display_name": "Python 3",
   "language": "python",
   "name": "python3"
  },
  "language_info": {
   "codemirror_mode": {
    "name": "ipython",
    "version": 3
   },
   "file_extension": ".py",
   "mimetype": "text/x-python",
   "name": "python",
   "nbconvert_exporter": "python",
   "pygments_lexer": "ipython3",
   "version": "3.6.2"
  },
  "umich": {
   "id": "Assignment 4",
   "version": "1.1"
  }
 },
 "nbformat": 4,
 "nbformat_minor": 1
}
